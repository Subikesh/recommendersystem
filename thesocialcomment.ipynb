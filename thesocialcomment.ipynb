{
 "cells": [
  {
   "cell_type": "markdown",
   "metadata": {},
   "source": [
    "# Recommender System for [SocialComment](thesocialcomment.com)\n",
    "\n",
    "<div>The projects main aim is to create a recommender system by \n",
    "<ul>\n",
    "    <li><a href=\"#content\">Content based Filtering</a>\n",
    "    <li><a href=\"#collab\">Collaborative Filtering</a>\n",
    "</ul>\n",
    "</div>"
   ]
  },
  {
   "cell_type": "code",
   "execution_count": 1,
   "metadata": {},
   "outputs": [],
   "source": [
    "import numpy as np\n",
    "import pandas as pd\n",
    "from sklearn.model_selection import train_test_split"
   ]
  },
  {
   "cell_type": "markdown",
   "metadata": {},
   "source": [
    "# Loading data in datasets"
   ]
  },
  {
   "cell_type": "markdown",
   "metadata": {},
   "source": [
    "## users.csv\n",
    "\n",
    "This dataset contains the details of user id, name, gender and academics"
   ]
  },
  {
   "cell_type": "code",
   "execution_count": 3,
   "metadata": {},
   "outputs": [
    {
     "output_type": "execute_result",
     "data": {
      "text/plain": "                        _id                  name gender      academics\n0  5d60098a653a331687083238  Nivesh Singh Chauhan   male  undergraduate\n1  5d610ae1653a331687083239         Gaurav Sharma   male       graduate\n2  5d618359fc5fcf3bdd9a0910         Akshay Mishra   male  undergraduate\n3  5d6d2bb87fa40e1417a49315        Saksham Mathur   male  undergraduate\n4  5d7c994d5720533e15c3b1e9         Varun Chowhan   male  undergraduate",
      "text/html": "<div>\n<style scoped>\n    .dataframe tbody tr th:only-of-type {\n        vertical-align: middle;\n    }\n\n    .dataframe tbody tr th {\n        vertical-align: top;\n    }\n\n    .dataframe thead th {\n        text-align: right;\n    }\n</style>\n<table border=\"1\" class=\"dataframe\">\n  <thead>\n    <tr style=\"text-align: right;\">\n      <th></th>\n      <th>_id</th>\n      <th>name</th>\n      <th>gender</th>\n      <th>academics</th>\n    </tr>\n  </thead>\n  <tbody>\n    <tr>\n      <th>0</th>\n      <td>5d60098a653a331687083238</td>\n      <td>Nivesh Singh Chauhan</td>\n      <td>male</td>\n      <td>undergraduate</td>\n    </tr>\n    <tr>\n      <th>1</th>\n      <td>5d610ae1653a331687083239</td>\n      <td>Gaurav Sharma</td>\n      <td>male</td>\n      <td>graduate</td>\n    </tr>\n    <tr>\n      <th>2</th>\n      <td>5d618359fc5fcf3bdd9a0910</td>\n      <td>Akshay Mishra</td>\n      <td>male</td>\n      <td>undergraduate</td>\n    </tr>\n    <tr>\n      <th>3</th>\n      <td>5d6d2bb87fa40e1417a49315</td>\n      <td>Saksham Mathur</td>\n      <td>male</td>\n      <td>undergraduate</td>\n    </tr>\n    <tr>\n      <th>4</th>\n      <td>5d7c994d5720533e15c3b1e9</td>\n      <td>Varun Chowhan</td>\n      <td>male</td>\n      <td>undergraduate</td>\n    </tr>\n  </tbody>\n</table>\n</div>"
     },
     "metadata": {},
     "execution_count": 3
    }
   ],
   "source": [
    "users_data = pd.read_csv(\"input/users.csv\")\n",
    "users_data.head()"
   ]
  },
  {
   "cell_type": "markdown",
   "metadata": {},
   "source": [
    "## posts.csv\n",
    "This dataset contains the details of the post which includes the catogory and post type"
   ]
  },
  {
   "cell_type": "code",
   "execution_count": 4,
   "metadata": {},
   "outputs": [
    {
     "output_type": "execute_result",
     "data": {
      "text/plain": "                        _id                          title  \\\n0  5d62abaa65218653a132c956                    hello there   \n1  5d6d39567fa40e1417a4931c                      Ml and AI   \n2  5d7d23315720533e15c3b1ee  What is an Operating System ?   \n3  5d7d405e5720533e15c3b1f3                     Lord Shiva   \n4  5d80dfbc6c53455f896e600e   How Competition law evolved?   \n\n                                            category  post_type  \n0                                Plant Biotechnology       blog  \n1  Artificial Intelligence|Machine Learning|Infor...       blog  \n2                                  Operating Systems       blog  \n3                                           Drawings    artwork  \n4                                   Competition Laws       blog  ",
      "text/html": "<div>\n<style scoped>\n    .dataframe tbody tr th:only-of-type {\n        vertical-align: middle;\n    }\n\n    .dataframe tbody tr th {\n        vertical-align: top;\n    }\n\n    .dataframe thead th {\n        text-align: right;\n    }\n</style>\n<table border=\"1\" class=\"dataframe\">\n  <thead>\n    <tr style=\"text-align: right;\">\n      <th></th>\n      <th>_id</th>\n      <th>title</th>\n      <th>category</th>\n      <th>post_type</th>\n    </tr>\n  </thead>\n  <tbody>\n    <tr>\n      <th>0</th>\n      <td>5d62abaa65218653a132c956</td>\n      <td>hello there</td>\n      <td>Plant Biotechnology</td>\n      <td>blog</td>\n    </tr>\n    <tr>\n      <th>1</th>\n      <td>5d6d39567fa40e1417a4931c</td>\n      <td>Ml and AI</td>\n      <td>Artificial Intelligence|Machine Learning|Infor...</td>\n      <td>blog</td>\n    </tr>\n    <tr>\n      <th>2</th>\n      <td>5d7d23315720533e15c3b1ee</td>\n      <td>What is an Operating System ?</td>\n      <td>Operating Systems</td>\n      <td>blog</td>\n    </tr>\n    <tr>\n      <th>3</th>\n      <td>5d7d405e5720533e15c3b1f3</td>\n      <td>Lord Shiva</td>\n      <td>Drawings</td>\n      <td>artwork</td>\n    </tr>\n    <tr>\n      <th>4</th>\n      <td>5d80dfbc6c53455f896e600e</td>\n      <td>How Competition law evolved?</td>\n      <td>Competition Laws</td>\n      <td>blog</td>\n    </tr>\n  </tbody>\n</table>\n</div>"
     },
     "metadata": {},
     "execution_count": 4
    }
   ],
   "source": [
    "posts_data = pd.read_csv(\"input/posts.csv\")\n",
    "posts_data.head()"
   ]
  },
  {
   "cell_type": "markdown",
   "metadata": {},
   "source": [
    "## views.csv\n",
    "\n",
    "This dataset contains id of user and the post viewed by him along with the time which he viewed it."
   ]
  },
  {
   "cell_type": "code",
   "execution_count": 5,
   "metadata": {},
   "outputs": [
    {
     "output_type": "execute_result",
     "data": {
      "text/plain": "                    user_id                   post_id  \\\n0  5df49b32cc709107827fb3c7  5ec821ddec493f4a2655889e   \n1  5ed3748576027d35905ccaab  5ed4cbadbd514d602c1531a6   \n2  5ed0defa76027d35905cc2de  5eac305f10426255a7aa9dd3   \n3  5ed0defa76027d35905cc2de  5ed1ff0276027d35905cc60d   \n4  5ed0defa76027d35905cc2de  5ed3820f76027d35905ccac8   \n\n                  timestamp  \n0  2020-06-01T10:46:45.131Z  \n1  2020-06-01T09:39:20.021Z  \n2  2020-06-01T08:12:42.682Z  \n3  2020-06-01T08:10:23.880Z  \n4  2020-06-01T08:08:54.124Z  ",
      "text/html": "<div>\n<style scoped>\n    .dataframe tbody tr th:only-of-type {\n        vertical-align: middle;\n    }\n\n    .dataframe tbody tr th {\n        vertical-align: top;\n    }\n\n    .dataframe thead th {\n        text-align: right;\n    }\n</style>\n<table border=\"1\" class=\"dataframe\">\n  <thead>\n    <tr style=\"text-align: right;\">\n      <th></th>\n      <th>user_id</th>\n      <th>post_id</th>\n      <th>timestamp</th>\n    </tr>\n  </thead>\n  <tbody>\n    <tr>\n      <th>0</th>\n      <td>5df49b32cc709107827fb3c7</td>\n      <td>5ec821ddec493f4a2655889e</td>\n      <td>2020-06-01T10:46:45.131Z</td>\n    </tr>\n    <tr>\n      <th>1</th>\n      <td>5ed3748576027d35905ccaab</td>\n      <td>5ed4cbadbd514d602c1531a6</td>\n      <td>2020-06-01T09:39:20.021Z</td>\n    </tr>\n    <tr>\n      <th>2</th>\n      <td>5ed0defa76027d35905cc2de</td>\n      <td>5eac305f10426255a7aa9dd3</td>\n      <td>2020-06-01T08:12:42.682Z</td>\n    </tr>\n    <tr>\n      <th>3</th>\n      <td>5ed0defa76027d35905cc2de</td>\n      <td>5ed1ff0276027d35905cc60d</td>\n      <td>2020-06-01T08:10:23.880Z</td>\n    </tr>\n    <tr>\n      <th>4</th>\n      <td>5ed0defa76027d35905cc2de</td>\n      <td>5ed3820f76027d35905ccac8</td>\n      <td>2020-06-01T08:08:54.124Z</td>\n    </tr>\n  </tbody>\n</table>\n</div>"
     },
     "metadata": {},
     "execution_count": 5
    }
   ],
   "source": [
    "views_data = pd.read_csv(\"input/views.csv\")\n",
    "views_data.head()"
   ]
  },
  {
   "cell_type": "markdown",
   "metadata": {},
   "source": [
    "# Preprocessing\n",
    "The posts_data's category column is changed from a string to list of category for each post so that it can be used for One hot encoding in the next step."
   ]
  },
  {
   "cell_type": "code",
   "execution_count": 6,
   "metadata": {},
   "outputs": [
    {
     "output_type": "execute_result",
     "data": {
      "text/plain": "                         _id  \\\n20  5dbc631f99cbb90e4339c7fd   \n21  5dc065ca24b883670268772f   \n22  5dd1751db802e41ed198b680   \n23  5dde6a91369b28584ecca156   \n24  5ddeb6e80eb5e25a8a07f065   \n25  5de179d80eb5e25a8a07f079   \n26  5de7971b8eab6401affbb137   \n27  5de8d73249e8203ff9219a74   \n28  5dea816a42a8854bf6eaba89   \n29  5dee9b5042a8854bf6eabaaf   \n\n                                                title  \\\n20                                        Calligraphy   \n21                                Colours of pushkar.   \n22                        Marital Rape - Rape is Rape   \n23                                       Spirituality   \n24  Library Managment System: Software Requirement...   \n25         Navigation system using BFS DFS algorithms   \n26                                      Shadow Sketch   \n27                                 Promotional video.   \n28                                 The Periodic Table   \n29              Computer Aided Machine Drawing (CAMD)   \n\n                   category post_type  \n20  [Drawings, Calligraphy]   artwork  \n21            [Photography]   artwork  \n22            [Empowerment]      blog  \n23            [Photography]   artwork  \n24                       []   project  \n25                       []   project  \n26               [Drawings]   artwork  \n27          [Video editing]     skill  \n28    [Inorganic Chemistry]      blog  \n29                       []   project  ",
      "text/html": "<div>\n<style scoped>\n    .dataframe tbody tr th:only-of-type {\n        vertical-align: middle;\n    }\n\n    .dataframe tbody tr th {\n        vertical-align: top;\n    }\n\n    .dataframe thead th {\n        text-align: right;\n    }\n</style>\n<table border=\"1\" class=\"dataframe\">\n  <thead>\n    <tr style=\"text-align: right;\">\n      <th></th>\n      <th>_id</th>\n      <th>title</th>\n      <th>category</th>\n      <th>post_type</th>\n    </tr>\n  </thead>\n  <tbody>\n    <tr>\n      <th>20</th>\n      <td>5dbc631f99cbb90e4339c7fd</td>\n      <td>Calligraphy</td>\n      <td>[Drawings, Calligraphy]</td>\n      <td>artwork</td>\n    </tr>\n    <tr>\n      <th>21</th>\n      <td>5dc065ca24b883670268772f</td>\n      <td>Colours of pushkar.</td>\n      <td>[Photography]</td>\n      <td>artwork</td>\n    </tr>\n    <tr>\n      <th>22</th>\n      <td>5dd1751db802e41ed198b680</td>\n      <td>Marital Rape - Rape is Rape</td>\n      <td>[Empowerment]</td>\n      <td>blog</td>\n    </tr>\n    <tr>\n      <th>23</th>\n      <td>5dde6a91369b28584ecca156</td>\n      <td>Spirituality</td>\n      <td>[Photography]</td>\n      <td>artwork</td>\n    </tr>\n    <tr>\n      <th>24</th>\n      <td>5ddeb6e80eb5e25a8a07f065</td>\n      <td>Library Managment System: Software Requirement...</td>\n      <td>[]</td>\n      <td>project</td>\n    </tr>\n    <tr>\n      <th>25</th>\n      <td>5de179d80eb5e25a8a07f079</td>\n      <td>Navigation system using BFS DFS algorithms</td>\n      <td>[]</td>\n      <td>project</td>\n    </tr>\n    <tr>\n      <th>26</th>\n      <td>5de7971b8eab6401affbb137</td>\n      <td>Shadow Sketch</td>\n      <td>[Drawings]</td>\n      <td>artwork</td>\n    </tr>\n    <tr>\n      <th>27</th>\n      <td>5de8d73249e8203ff9219a74</td>\n      <td>Promotional video.</td>\n      <td>[Video editing]</td>\n      <td>skill</td>\n    </tr>\n    <tr>\n      <th>28</th>\n      <td>5dea816a42a8854bf6eaba89</td>\n      <td>The Periodic Table</td>\n      <td>[Inorganic Chemistry]</td>\n      <td>blog</td>\n    </tr>\n    <tr>\n      <th>29</th>\n      <td>5dee9b5042a8854bf6eabaaf</td>\n      <td>Computer Aided Machine Drawing (CAMD)</td>\n      <td>[]</td>\n      <td>project</td>\n    </tr>\n  </tbody>\n</table>\n</div>"
     },
     "metadata": {},
     "execution_count": 6
    }
   ],
   "source": [
    "posts_data = posts_data.rename(columns={' post_type':'post_type'})\n",
    "posts_data_col = posts_data.copy()\n",
    "\n",
    "# Converting catagories to lists\n",
    "posts_data_col['category'] = posts_data.category.str.split('|')\n",
    "\n",
    "# Filling Nan values in category column to []\n",
    "posts_data_col.loc[posts_data_col['category'].isnull(), 'category'] = posts_data_col.loc[posts_data_col['category'].isnull(), 'category'].apply(lambda x: [])\n",
    "\n",
    "# Stripping all the end spaces in the string for each category\n",
    "posts_data_col['category'] = posts_data_col.category.apply(lambda x: list(map(str.strip, x)) if x != [] else [])\n",
    "posts_data_col[20:30]"
   ]
  },
  {
   "cell_type": "code",
   "execution_count": 7,
   "metadata": {},
   "outputs": [
    {
     "output_type": "execute_result",
     "data": {
      "text/plain": "                        _id  Plant Biotechnology  Artificial Intelligence  \\\n0  5d62abaa65218653a132c956                  1.0                      0.0   \n1  5d6d39567fa40e1417a4931c                  0.0                      1.0   \n2  5d7d23315720533e15c3b1ee                  0.0                      0.0   \n3  5d7d405e5720533e15c3b1f3                  0.0                      0.0   \n4  5d80dfbc6c53455f896e600e                  0.0                      0.0   \n\n   Machine Learning  Information Technology  Operating Systems  Drawings  \\\n0               0.0                     0.0                0.0       0.0   \n1               1.0                     1.0                0.0       0.0   \n2               0.0                     0.0                1.0       0.0   \n3               0.0                     0.0                0.0       1.0   \n4               0.0                     0.0                0.0       0.0   \n\n   Competition Laws  Eco System  Economic Policies  ...  Test  \\\n0               0.0         0.0                0.0  ...   0.0   \n1               0.0         0.0                0.0  ...   0.0   \n2               0.0         0.0                0.0  ...   0.0   \n3               0.0         0.0                0.0  ...   0.0   \n4               1.0         0.0                0.0  ...   0.0   \n\n   Professionalism  Art  Science  Technology  Logo Design  Learning  Fictions  \\\n0              0.0  0.0      0.0         0.0          0.0       0.0       0.0   \n1              0.0  0.0      0.0         0.0          0.0       0.0       0.0   \n2              0.0  0.0      0.0         0.0          0.0       0.0       0.0   \n3              0.0  0.0      0.0         0.0          0.0       0.0       0.0   \n4              0.0  0.0      0.0         0.0          0.0       0.0       0.0   \n\n   Typography  Media And Society  \n0         0.0                0.0  \n1         0.0                0.0  \n2         0.0                0.0  \n3         0.0                0.0  \n4         0.0                0.0  \n\n[5 rows x 233 columns]",
      "text/html": "<div>\n<style scoped>\n    .dataframe tbody tr th:only-of-type {\n        vertical-align: middle;\n    }\n\n    .dataframe tbody tr th {\n        vertical-align: top;\n    }\n\n    .dataframe thead th {\n        text-align: right;\n    }\n</style>\n<table border=\"1\" class=\"dataframe\">\n  <thead>\n    <tr style=\"text-align: right;\">\n      <th></th>\n      <th>_id</th>\n      <th>Plant Biotechnology</th>\n      <th>Artificial Intelligence</th>\n      <th>Machine Learning</th>\n      <th>Information Technology</th>\n      <th>Operating Systems</th>\n      <th>Drawings</th>\n      <th>Competition Laws</th>\n      <th>Eco System</th>\n      <th>Economic Policies</th>\n      <th>...</th>\n      <th>Test</th>\n      <th>Professionalism</th>\n      <th>Art</th>\n      <th>Science</th>\n      <th>Technology</th>\n      <th>Logo Design</th>\n      <th>Learning</th>\n      <th>Fictions</th>\n      <th>Typography</th>\n      <th>Media And Society</th>\n    </tr>\n  </thead>\n  <tbody>\n    <tr>\n      <th>0</th>\n      <td>5d62abaa65218653a132c956</td>\n      <td>1.0</td>\n      <td>0.0</td>\n      <td>0.0</td>\n      <td>0.0</td>\n      <td>0.0</td>\n      <td>0.0</td>\n      <td>0.0</td>\n      <td>0.0</td>\n      <td>0.0</td>\n      <td>...</td>\n      <td>0.0</td>\n      <td>0.0</td>\n      <td>0.0</td>\n      <td>0.0</td>\n      <td>0.0</td>\n      <td>0.0</td>\n      <td>0.0</td>\n      <td>0.0</td>\n      <td>0.0</td>\n      <td>0.0</td>\n    </tr>\n    <tr>\n      <th>1</th>\n      <td>5d6d39567fa40e1417a4931c</td>\n      <td>0.0</td>\n      <td>1.0</td>\n      <td>1.0</td>\n      <td>1.0</td>\n      <td>0.0</td>\n      <td>0.0</td>\n      <td>0.0</td>\n      <td>0.0</td>\n      <td>0.0</td>\n      <td>...</td>\n      <td>0.0</td>\n      <td>0.0</td>\n      <td>0.0</td>\n      <td>0.0</td>\n      <td>0.0</td>\n      <td>0.0</td>\n      <td>0.0</td>\n      <td>0.0</td>\n      <td>0.0</td>\n      <td>0.0</td>\n    </tr>\n    <tr>\n      <th>2</th>\n      <td>5d7d23315720533e15c3b1ee</td>\n      <td>0.0</td>\n      <td>0.0</td>\n      <td>0.0</td>\n      <td>0.0</td>\n      <td>1.0</td>\n      <td>0.0</td>\n      <td>0.0</td>\n      <td>0.0</td>\n      <td>0.0</td>\n      <td>...</td>\n      <td>0.0</td>\n      <td>0.0</td>\n      <td>0.0</td>\n      <td>0.0</td>\n      <td>0.0</td>\n      <td>0.0</td>\n      <td>0.0</td>\n      <td>0.0</td>\n      <td>0.0</td>\n      <td>0.0</td>\n    </tr>\n    <tr>\n      <th>3</th>\n      <td>5d7d405e5720533e15c3b1f3</td>\n      <td>0.0</td>\n      <td>0.0</td>\n      <td>0.0</td>\n      <td>0.0</td>\n      <td>0.0</td>\n      <td>1.0</td>\n      <td>0.0</td>\n      <td>0.0</td>\n      <td>0.0</td>\n      <td>...</td>\n      <td>0.0</td>\n      <td>0.0</td>\n      <td>0.0</td>\n      <td>0.0</td>\n      <td>0.0</td>\n      <td>0.0</td>\n      <td>0.0</td>\n      <td>0.0</td>\n      <td>0.0</td>\n      <td>0.0</td>\n    </tr>\n    <tr>\n      <th>4</th>\n      <td>5d80dfbc6c53455f896e600e</td>\n      <td>0.0</td>\n      <td>0.0</td>\n      <td>0.0</td>\n      <td>0.0</td>\n      <td>0.0</td>\n      <td>0.0</td>\n      <td>1.0</td>\n      <td>0.0</td>\n      <td>0.0</td>\n      <td>...</td>\n      <td>0.0</td>\n      <td>0.0</td>\n      <td>0.0</td>\n      <td>0.0</td>\n      <td>0.0</td>\n      <td>0.0</td>\n      <td>0.0</td>\n      <td>0.0</td>\n      <td>0.0</td>\n      <td>0.0</td>\n    </tr>\n  </tbody>\n</table>\n<p>5 rows × 233 columns</p>\n</div>"
     },
     "metadata": {},
     "execution_count": 7
    }
   ],
   "source": [
    "post_with_category = posts_data_col.copy()\n",
    "\n",
    "# Creating seperate columns for each category and setting 1 for those which apply\n",
    "for i, row in post_with_category.iterrows():\n",
    "    for cat in row['category']:\n",
    "        post_with_category.at[i, cat] = 1\n",
    "\n",
    "# Filling all those other than 1 to be 0\n",
    "post_with_category = post_with_category.fillna(0.0)\n",
    "\n",
    "# Droping information which is not needed\n",
    "post_encoded = post_with_category.drop('category',1).drop('title',1).drop('post_type',1)\n",
    "post_encoded.head()"
   ]
  },
  {
   "cell_type": "markdown",
   "metadata": {},
   "source": [
    "<a id=\"content\"> </a>\n",
    "\n",
    "# Content-based Filtering\n",
    "An user's views are retrived as an input dataset for which we predict the recommended posts."
   ]
  },
  {
   "cell_type": "code",
   "execution_count": 8,
   "metadata": {},
   "outputs": [],
   "source": [
    "# Getting view data of an user with user id '5ed0defa76027d35905cc2de'\n",
    "input_data = post_encoded[post_encoded['_id'].isin(views_data[views_data['user_id'] == '5d610ae1653a331687083239']['post_id'])]"
   ]
  },
  {
   "cell_type": "code",
   "execution_count": 9,
   "metadata": {},
   "outputs": [
    {
     "output_type": "execute_result",
     "data": {
      "text/plain": "   Plant Biotechnology  Artificial Intelligence  Machine Learning  \\\n0                  0.0                      0.0               0.0   \n1                  0.0                      0.0               0.0   \n2                  0.0                      0.0               0.0   \n3                  0.0                      0.0               0.0   \n4                  0.0                      0.0               0.0   \n\n   Information Technology  Operating Systems  Drawings  Competition Laws  \\\n0                     0.0                0.0       0.0               1.0   \n1                     0.0                0.0       0.0               1.0   \n2                     0.0                0.0       0.0               0.0   \n3                     0.0                0.0       0.0               0.0   \n4                     0.0                0.0       0.0               0.0   \n\n   Eco System  Economic Policies  Graphic  ...  Test  Professionalism  Art  \\\n0         0.0                0.0      0.0  ...   0.0              0.0  0.0   \n1         0.0                0.0      0.0  ...   0.0              0.0  0.0   \n2         0.0                0.0      0.0  ...   0.0              0.0  0.0   \n3         0.0                0.0      0.0  ...   0.0              0.0  0.0   \n4         0.0                0.0      0.0  ...   0.0              0.0  0.0   \n\n   Science  Technology  Logo Design  Learning  Fictions  Typography  \\\n0      0.0         0.0          0.0       0.0       0.0         0.0   \n1      0.0         0.0          0.0       0.0       0.0         0.0   \n2      0.0         0.0          0.0       0.0       0.0         0.0   \n3      0.0         0.0          0.0       0.0       0.0         0.0   \n4      0.0         0.0          0.0       0.0       0.0         0.0   \n\n   Media And Society  \n0                0.0  \n1                0.0  \n2                0.0  \n3                0.0  \n4                0.0  \n\n[5 rows x 232 columns]",
      "text/html": "<div>\n<style scoped>\n    .dataframe tbody tr th:only-of-type {\n        vertical-align: middle;\n    }\n\n    .dataframe tbody tr th {\n        vertical-align: top;\n    }\n\n    .dataframe thead th {\n        text-align: right;\n    }\n</style>\n<table border=\"1\" class=\"dataframe\">\n  <thead>\n    <tr style=\"text-align: right;\">\n      <th></th>\n      <th>Plant Biotechnology</th>\n      <th>Artificial Intelligence</th>\n      <th>Machine Learning</th>\n      <th>Information Technology</th>\n      <th>Operating Systems</th>\n      <th>Drawings</th>\n      <th>Competition Laws</th>\n      <th>Eco System</th>\n      <th>Economic Policies</th>\n      <th>Graphic</th>\n      <th>...</th>\n      <th>Test</th>\n      <th>Professionalism</th>\n      <th>Art</th>\n      <th>Science</th>\n      <th>Technology</th>\n      <th>Logo Design</th>\n      <th>Learning</th>\n      <th>Fictions</th>\n      <th>Typography</th>\n      <th>Media And Society</th>\n    </tr>\n  </thead>\n  <tbody>\n    <tr>\n      <th>0</th>\n      <td>0.0</td>\n      <td>0.0</td>\n      <td>0.0</td>\n      <td>0.0</td>\n      <td>0.0</td>\n      <td>0.0</td>\n      <td>1.0</td>\n      <td>0.0</td>\n      <td>0.0</td>\n      <td>0.0</td>\n      <td>...</td>\n      <td>0.0</td>\n      <td>0.0</td>\n      <td>0.0</td>\n      <td>0.0</td>\n      <td>0.0</td>\n      <td>0.0</td>\n      <td>0.0</td>\n      <td>0.0</td>\n      <td>0.0</td>\n      <td>0.0</td>\n    </tr>\n    <tr>\n      <th>1</th>\n      <td>0.0</td>\n      <td>0.0</td>\n      <td>0.0</td>\n      <td>0.0</td>\n      <td>0.0</td>\n      <td>0.0</td>\n      <td>1.0</td>\n      <td>0.0</td>\n      <td>0.0</td>\n      <td>0.0</td>\n      <td>...</td>\n      <td>0.0</td>\n      <td>0.0</td>\n      <td>0.0</td>\n      <td>0.0</td>\n      <td>0.0</td>\n      <td>0.0</td>\n      <td>0.0</td>\n      <td>0.0</td>\n      <td>0.0</td>\n      <td>0.0</td>\n    </tr>\n    <tr>\n      <th>2</th>\n      <td>0.0</td>\n      <td>0.0</td>\n      <td>0.0</td>\n      <td>0.0</td>\n      <td>0.0</td>\n      <td>0.0</td>\n      <td>0.0</td>\n      <td>0.0</td>\n      <td>0.0</td>\n      <td>0.0</td>\n      <td>...</td>\n      <td>0.0</td>\n      <td>0.0</td>\n      <td>0.0</td>\n      <td>0.0</td>\n      <td>0.0</td>\n      <td>0.0</td>\n      <td>0.0</td>\n      <td>0.0</td>\n      <td>0.0</td>\n      <td>0.0</td>\n    </tr>\n    <tr>\n      <th>3</th>\n      <td>0.0</td>\n      <td>0.0</td>\n      <td>0.0</td>\n      <td>0.0</td>\n      <td>0.0</td>\n      <td>0.0</td>\n      <td>0.0</td>\n      <td>0.0</td>\n      <td>0.0</td>\n      <td>0.0</td>\n      <td>...</td>\n      <td>0.0</td>\n      <td>0.0</td>\n      <td>0.0</td>\n      <td>0.0</td>\n      <td>0.0</td>\n      <td>0.0</td>\n      <td>0.0</td>\n      <td>0.0</td>\n      <td>0.0</td>\n      <td>0.0</td>\n    </tr>\n    <tr>\n      <th>4</th>\n      <td>0.0</td>\n      <td>0.0</td>\n      <td>0.0</td>\n      <td>0.0</td>\n      <td>0.0</td>\n      <td>0.0</td>\n      <td>0.0</td>\n      <td>0.0</td>\n      <td>0.0</td>\n      <td>0.0</td>\n      <td>...</td>\n      <td>0.0</td>\n      <td>0.0</td>\n      <td>0.0</td>\n      <td>0.0</td>\n      <td>0.0</td>\n      <td>0.0</td>\n      <td>0.0</td>\n      <td>0.0</td>\n      <td>0.0</td>\n      <td>0.0</td>\n    </tr>\n  </tbody>\n</table>\n<p>5 rows × 232 columns</p>\n</div>"
     },
     "metadata": {},
     "execution_count": 9
    }
   ],
   "source": [
    "# We'll only need the categories of posts. So let's clean up the data\n",
    "input_data = input_data.reset_index(drop=True)\n",
    "input_category = input_data.drop('_id',1)\n",
    "input_category.head()"
   ]
  },
  {
   "cell_type": "code",
   "execution_count": 10,
   "metadata": {},
   "outputs": [
    {
     "output_type": "execute_result",
     "data": {
      "text/plain": "Plant Biotechnology        1.0\nArtificial Intelligence    3.0\nMachine Learning           2.0\nInformation Technology     1.0\nOperating Systems          0.0\ndtype: float64"
     },
     "metadata": {},
     "execution_count": 10
    }
   ],
   "source": [
    "# This is the user recommendations for each category weighted by the number of views on each\n",
    "user_profile = input_category.sum(axis=0)\n",
    "user_profile.head()"
   ]
  },
  {
   "cell_type": "code",
   "execution_count": 11,
   "metadata": {},
   "outputs": [
    {
     "output_type": "execute_result",
     "data": {
      "text/plain": "                          Plant Biotechnology  Artificial Intelligence  \\\n_id                                                                      \n5d62abaa65218653a132c956                  1.0                      0.0   \n5d6d39567fa40e1417a4931c                  0.0                      1.0   \n5d7d23315720533e15c3b1ee                  0.0                      0.0   \n5d7d405e5720533e15c3b1f3                  0.0                      0.0   \n5d80dfbc6c53455f896e600e                  0.0                      0.0   \n\n                          Machine Learning  Information Technology  \\\n_id                                                                  \n5d62abaa65218653a132c956               0.0                     0.0   \n5d6d39567fa40e1417a4931c               1.0                     1.0   \n5d7d23315720533e15c3b1ee               0.0                     0.0   \n5d7d405e5720533e15c3b1f3               0.0                     0.0   \n5d80dfbc6c53455f896e600e               0.0                     0.0   \n\n                          Operating Systems  Drawings  Competition Laws  \\\n_id                                                                       \n5d62abaa65218653a132c956                0.0       0.0               0.0   \n5d6d39567fa40e1417a4931c                0.0       0.0               0.0   \n5d7d23315720533e15c3b1ee                1.0       0.0               0.0   \n5d7d405e5720533e15c3b1f3                0.0       1.0               0.0   \n5d80dfbc6c53455f896e600e                0.0       0.0               1.0   \n\n                          Eco System  Economic Policies  Graphic  ...  Test  \\\n_id                                                               ...         \n5d62abaa65218653a132c956         0.0                0.0      0.0  ...   0.0   \n5d6d39567fa40e1417a4931c         0.0                0.0      0.0  ...   0.0   \n5d7d23315720533e15c3b1ee         0.0                0.0      0.0  ...   0.0   \n5d7d405e5720533e15c3b1f3         0.0                0.0      0.0  ...   0.0   \n5d80dfbc6c53455f896e600e         0.0                0.0      0.0  ...   0.0   \n\n                          Professionalism  Art  Science  Technology  \\\n_id                                                                   \n5d62abaa65218653a132c956              0.0  0.0      0.0         0.0   \n5d6d39567fa40e1417a4931c              0.0  0.0      0.0         0.0   \n5d7d23315720533e15c3b1ee              0.0  0.0      0.0         0.0   \n5d7d405e5720533e15c3b1f3              0.0  0.0      0.0         0.0   \n5d80dfbc6c53455f896e600e              0.0  0.0      0.0         0.0   \n\n                          Logo Design  Learning  Fictions  Typography  \\\n_id                                                                     \n5d62abaa65218653a132c956          0.0       0.0       0.0         0.0   \n5d6d39567fa40e1417a4931c          0.0       0.0       0.0         0.0   \n5d7d23315720533e15c3b1ee          0.0       0.0       0.0         0.0   \n5d7d405e5720533e15c3b1f3          0.0       0.0       0.0         0.0   \n5d80dfbc6c53455f896e600e          0.0       0.0       0.0         0.0   \n\n                          Media And Society  \n_id                                          \n5d62abaa65218653a132c956                0.0  \n5d6d39567fa40e1417a4931c                0.0  \n5d7d23315720533e15c3b1ee                0.0  \n5d7d405e5720533e15c3b1f3                0.0  \n5d80dfbc6c53455f896e600e                0.0  \n\n[5 rows x 232 columns]",
      "text/html": "<div>\n<style scoped>\n    .dataframe tbody tr th:only-of-type {\n        vertical-align: middle;\n    }\n\n    .dataframe tbody tr th {\n        vertical-align: top;\n    }\n\n    .dataframe thead th {\n        text-align: right;\n    }\n</style>\n<table border=\"1\" class=\"dataframe\">\n  <thead>\n    <tr style=\"text-align: right;\">\n      <th></th>\n      <th>Plant Biotechnology</th>\n      <th>Artificial Intelligence</th>\n      <th>Machine Learning</th>\n      <th>Information Technology</th>\n      <th>Operating Systems</th>\n      <th>Drawings</th>\n      <th>Competition Laws</th>\n      <th>Eco System</th>\n      <th>Economic Policies</th>\n      <th>Graphic</th>\n      <th>...</th>\n      <th>Test</th>\n      <th>Professionalism</th>\n      <th>Art</th>\n      <th>Science</th>\n      <th>Technology</th>\n      <th>Logo Design</th>\n      <th>Learning</th>\n      <th>Fictions</th>\n      <th>Typography</th>\n      <th>Media And Society</th>\n    </tr>\n    <tr>\n      <th>_id</th>\n      <th></th>\n      <th></th>\n      <th></th>\n      <th></th>\n      <th></th>\n      <th></th>\n      <th></th>\n      <th></th>\n      <th></th>\n      <th></th>\n      <th></th>\n      <th></th>\n      <th></th>\n      <th></th>\n      <th></th>\n      <th></th>\n      <th></th>\n      <th></th>\n      <th></th>\n      <th></th>\n      <th></th>\n    </tr>\n  </thead>\n  <tbody>\n    <tr>\n      <th>5d62abaa65218653a132c956</th>\n      <td>1.0</td>\n      <td>0.0</td>\n      <td>0.0</td>\n      <td>0.0</td>\n      <td>0.0</td>\n      <td>0.0</td>\n      <td>0.0</td>\n      <td>0.0</td>\n      <td>0.0</td>\n      <td>0.0</td>\n      <td>...</td>\n      <td>0.0</td>\n      <td>0.0</td>\n      <td>0.0</td>\n      <td>0.0</td>\n      <td>0.0</td>\n      <td>0.0</td>\n      <td>0.0</td>\n      <td>0.0</td>\n      <td>0.0</td>\n      <td>0.0</td>\n    </tr>\n    <tr>\n      <th>5d6d39567fa40e1417a4931c</th>\n      <td>0.0</td>\n      <td>1.0</td>\n      <td>1.0</td>\n      <td>1.0</td>\n      <td>0.0</td>\n      <td>0.0</td>\n      <td>0.0</td>\n      <td>0.0</td>\n      <td>0.0</td>\n      <td>0.0</td>\n      <td>...</td>\n      <td>0.0</td>\n      <td>0.0</td>\n      <td>0.0</td>\n      <td>0.0</td>\n      <td>0.0</td>\n      <td>0.0</td>\n      <td>0.0</td>\n      <td>0.0</td>\n      <td>0.0</td>\n      <td>0.0</td>\n    </tr>\n    <tr>\n      <th>5d7d23315720533e15c3b1ee</th>\n      <td>0.0</td>\n      <td>0.0</td>\n      <td>0.0</td>\n      <td>0.0</td>\n      <td>1.0</td>\n      <td>0.0</td>\n      <td>0.0</td>\n      <td>0.0</td>\n      <td>0.0</td>\n      <td>0.0</td>\n      <td>...</td>\n      <td>0.0</td>\n      <td>0.0</td>\n      <td>0.0</td>\n      <td>0.0</td>\n      <td>0.0</td>\n      <td>0.0</td>\n      <td>0.0</td>\n      <td>0.0</td>\n      <td>0.0</td>\n      <td>0.0</td>\n    </tr>\n    <tr>\n      <th>5d7d405e5720533e15c3b1f3</th>\n      <td>0.0</td>\n      <td>0.0</td>\n      <td>0.0</td>\n      <td>0.0</td>\n      <td>0.0</td>\n      <td>1.0</td>\n      <td>0.0</td>\n      <td>0.0</td>\n      <td>0.0</td>\n      <td>0.0</td>\n      <td>...</td>\n      <td>0.0</td>\n      <td>0.0</td>\n      <td>0.0</td>\n      <td>0.0</td>\n      <td>0.0</td>\n      <td>0.0</td>\n      <td>0.0</td>\n      <td>0.0</td>\n      <td>0.0</td>\n      <td>0.0</td>\n    </tr>\n    <tr>\n      <th>5d80dfbc6c53455f896e600e</th>\n      <td>0.0</td>\n      <td>0.0</td>\n      <td>0.0</td>\n      <td>0.0</td>\n      <td>0.0</td>\n      <td>0.0</td>\n      <td>1.0</td>\n      <td>0.0</td>\n      <td>0.0</td>\n      <td>0.0</td>\n      <td>...</td>\n      <td>0.0</td>\n      <td>0.0</td>\n      <td>0.0</td>\n      <td>0.0</td>\n      <td>0.0</td>\n      <td>0.0</td>\n      <td>0.0</td>\n      <td>0.0</td>\n      <td>0.0</td>\n      <td>0.0</td>\n    </tr>\n  </tbody>\n</table>\n<p>5 rows × 232 columns</p>\n</div>"
     },
     "metadata": {},
     "execution_count": 11
    }
   ],
   "source": [
    "# Creating the category table with post_id as index column\n",
    "category_table = post_with_category.set_index(post_with_category['_id'])\n",
    "category_table = category_table.drop('_id',1).drop('title', 1).drop('post_type',1).drop('category',1)\n",
    "category_table.head()"
   ]
  },
  {
   "cell_type": "markdown",
   "metadata": {},
   "source": [
    "To get the recommendation on the posts, we multiply this with the category table and divide with the total views by user to find recommendation value for each posts"
   ]
  },
  {
   "cell_type": "code",
   "execution_count": 12,
   "metadata": {},
   "outputs": [
    {
     "output_type": "execute_result",
     "data": {
      "text/plain": "_id\n5d62abaa65218653a132c956    0.004115\n5d6d39567fa40e1417a4931c    0.024691\n5d7d23315720533e15c3b1ee    0.000000\n5d7d405e5720533e15c3b1f3    0.065844\n5d80dfbc6c53455f896e600e    0.008230\ndtype: float64"
     },
     "metadata": {},
     "execution_count": 12
    }
   ],
   "source": [
    "recommendation_table = ((category_table*user_profile).sum(axis=1)) / user_profile.sum()\n",
    "recommendation_table.head()"
   ]
  },
  {
   "cell_type": "code",
   "execution_count": 13,
   "metadata": {},
   "outputs": [
    {
     "output_type": "execute_result",
     "data": {
      "text/plain": "_id\n5e7f39a3a3258347b42f2151    0.246914\n5e5bb3eed701ab08af792bfa    0.246914\n5e2d4d63c85ab714a7da66db    0.238683\n5ecb72c0eaff6b0c3a58a48e    0.234568\n5e5b59cbd701ab08af792b90    0.213992\ndtype: float64"
     },
     "metadata": {},
     "execution_count": 13
    }
   ],
   "source": [
    "# Sorting the values to get the best post recommendation on top\n",
    "recommendation_table = recommendation_table.sort_values(ascending=False)\n",
    "recommendation_table.head()"
   ]
  },
  {
   "cell_type": "markdown",
   "metadata": {},
   "source": [
    "These are the recommendation generated for the user_id __5d610ae1653a331687083239__ using content based recommended system."
   ]
  },
  {
   "cell_type": "code",
   "execution_count": 14,
   "metadata": {},
   "outputs": [
    {
     "output_type": "execute_result",
     "data": {
      "text/plain": "                          _id                         title  \\\n40   5e2d4737c85ab714a7da66d9                    LGBT PRIDE   \n41   5e2d4d63c85ab714a7da66db      Magazine Cover Redefined   \n42   5e2d516fc85ab714a7da66dd              'The Virtual ME'   \n119  5e5b59cbd701ab08af792b90        The girl in the meadow   \n121  5e5bb3eed701ab08af792bfa  The Nerd who was thrown out.   \n155  5e79f3fccfc8b713f5ac7d54        The Enlightened Dreams   \n178  5e7f39a3a3258347b42f2151                  The Meenamma   \n247  5e94452ea3258347b42f282a                      gripping   \n269  5e94bf78a3258347b42f2925                    Aesthetics   \n288  5e96464da3258347b42f2a8e                      filtered   \n\n                                              category post_type  \n40   Fashion Design|Visual Arts|Conceptual|Artistic...   artwork  \n41   Photography|Fashion Design|Visual Arts|Graphic...   artwork  \n42   Fashion Design|Visual Arts|Graphic Design|Arti...   artwork  \n119  Drawings|Painting|Visual Arts|Graphic Design|P...   artwork  \n121  Drawings|Visual Arts|Painting|Graphic Design|A...   artwork  \n155                     Drawings|Painting|Watercolours   artwork  \n178  Drawings|Painting|Visual Arts|Artistic design|...   artwork  \n247                            Visual Arts|Photography   artwork  \n269                            Photography|Visual Arts   artwork  \n288                  Photography|Architecture|Painting   artwork  ",
      "text/html": "<div>\n<style scoped>\n    .dataframe tbody tr th:only-of-type {\n        vertical-align: middle;\n    }\n\n    .dataframe tbody tr th {\n        vertical-align: top;\n    }\n\n    .dataframe thead th {\n        text-align: right;\n    }\n</style>\n<table border=\"1\" class=\"dataframe\">\n  <thead>\n    <tr style=\"text-align: right;\">\n      <th></th>\n      <th>_id</th>\n      <th>title</th>\n      <th>category</th>\n      <th>post_type</th>\n    </tr>\n  </thead>\n  <tbody>\n    <tr>\n      <th>40</th>\n      <td>5e2d4737c85ab714a7da66d9</td>\n      <td>LGBT PRIDE</td>\n      <td>Fashion Design|Visual Arts|Conceptual|Artistic...</td>\n      <td>artwork</td>\n    </tr>\n    <tr>\n      <th>41</th>\n      <td>5e2d4d63c85ab714a7da66db</td>\n      <td>Magazine Cover Redefined</td>\n      <td>Photography|Fashion Design|Visual Arts|Graphic...</td>\n      <td>artwork</td>\n    </tr>\n    <tr>\n      <th>42</th>\n      <td>5e2d516fc85ab714a7da66dd</td>\n      <td>'The Virtual ME'</td>\n      <td>Fashion Design|Visual Arts|Graphic Design|Arti...</td>\n      <td>artwork</td>\n    </tr>\n    <tr>\n      <th>119</th>\n      <td>5e5b59cbd701ab08af792b90</td>\n      <td>The girl in the meadow</td>\n      <td>Drawings|Painting|Visual Arts|Graphic Design|P...</td>\n      <td>artwork</td>\n    </tr>\n    <tr>\n      <th>121</th>\n      <td>5e5bb3eed701ab08af792bfa</td>\n      <td>The Nerd who was thrown out.</td>\n      <td>Drawings|Visual Arts|Painting|Graphic Design|A...</td>\n      <td>artwork</td>\n    </tr>\n    <tr>\n      <th>155</th>\n      <td>5e79f3fccfc8b713f5ac7d54</td>\n      <td>The Enlightened Dreams</td>\n      <td>Drawings|Painting|Watercolours</td>\n      <td>artwork</td>\n    </tr>\n    <tr>\n      <th>178</th>\n      <td>5e7f39a3a3258347b42f2151</td>\n      <td>The Meenamma</td>\n      <td>Drawings|Painting|Visual Arts|Artistic design|...</td>\n      <td>artwork</td>\n    </tr>\n    <tr>\n      <th>247</th>\n      <td>5e94452ea3258347b42f282a</td>\n      <td>gripping</td>\n      <td>Visual Arts|Photography</td>\n      <td>artwork</td>\n    </tr>\n    <tr>\n      <th>269</th>\n      <td>5e94bf78a3258347b42f2925</td>\n      <td>Aesthetics</td>\n      <td>Photography|Visual Arts</td>\n      <td>artwork</td>\n    </tr>\n    <tr>\n      <th>288</th>\n      <td>5e96464da3258347b42f2a8e</td>\n      <td>filtered</td>\n      <td>Photography|Architecture|Painting</td>\n      <td>artwork</td>\n    </tr>\n  </tbody>\n</table>\n</div>"
     },
     "metadata": {},
     "execution_count": 14
    }
   ],
   "source": [
    "# The final recommendation table with the top 20 post recommendations\n",
    "final = posts_data.loc[posts_data['_id'].isin(recommendation_table.head(20).keys())]\n",
    "final.head(10)"
   ]
  },
  {
   "cell_type": "markdown",
   "metadata": {},
   "source": [
    "---"
   ]
  },
  {
   "cell_type": "markdown",
   "metadata": {},
   "source": [
    "<a id=\"collab\"> </a>\n",
    "\n",
    "# Collaborative Filtering\n",
    "\n",
    "Let's take a look at the datasets first"
   ]
  },
  {
   "cell_type": "code",
   "execution_count": 15,
   "metadata": {},
   "outputs": [
    {
     "output_type": "execute_result",
     "data": {
      "text/plain": "                    user_id                   post_id  \\\n0  5df49b32cc709107827fb3c7  5ec821ddec493f4a2655889e   \n1  5ed3748576027d35905ccaab  5ed4cbadbd514d602c1531a6   \n2  5ed0defa76027d35905cc2de  5eac305f10426255a7aa9dd3   \n3  5ed0defa76027d35905cc2de  5ed1ff0276027d35905cc60d   \n4  5ed0defa76027d35905cc2de  5ed3820f76027d35905ccac8   \n\n                  timestamp  \n0  2020-06-01T10:46:45.131Z  \n1  2020-06-01T09:39:20.021Z  \n2  2020-06-01T08:12:42.682Z  \n3  2020-06-01T08:10:23.880Z  \n4  2020-06-01T08:08:54.124Z  ",
      "text/html": "<div>\n<style scoped>\n    .dataframe tbody tr th:only-of-type {\n        vertical-align: middle;\n    }\n\n    .dataframe tbody tr th {\n        vertical-align: top;\n    }\n\n    .dataframe thead th {\n        text-align: right;\n    }\n</style>\n<table border=\"1\" class=\"dataframe\">\n  <thead>\n    <tr style=\"text-align: right;\">\n      <th></th>\n      <th>user_id</th>\n      <th>post_id</th>\n      <th>timestamp</th>\n    </tr>\n  </thead>\n  <tbody>\n    <tr>\n      <th>0</th>\n      <td>5df49b32cc709107827fb3c7</td>\n      <td>5ec821ddec493f4a2655889e</td>\n      <td>2020-06-01T10:46:45.131Z</td>\n    </tr>\n    <tr>\n      <th>1</th>\n      <td>5ed3748576027d35905ccaab</td>\n      <td>5ed4cbadbd514d602c1531a6</td>\n      <td>2020-06-01T09:39:20.021Z</td>\n    </tr>\n    <tr>\n      <th>2</th>\n      <td>5ed0defa76027d35905cc2de</td>\n      <td>5eac305f10426255a7aa9dd3</td>\n      <td>2020-06-01T08:12:42.682Z</td>\n    </tr>\n    <tr>\n      <th>3</th>\n      <td>5ed0defa76027d35905cc2de</td>\n      <td>5ed1ff0276027d35905cc60d</td>\n      <td>2020-06-01T08:10:23.880Z</td>\n    </tr>\n    <tr>\n      <th>4</th>\n      <td>5ed0defa76027d35905cc2de</td>\n      <td>5ed3820f76027d35905ccac8</td>\n      <td>2020-06-01T08:08:54.124Z</td>\n    </tr>\n  </tbody>\n</table>\n</div>"
     },
     "metadata": {},
     "execution_count": 15
    }
   ],
   "source": [
    "views_data.head()"
   ]
  },
  {
   "cell_type": "code",
   "execution_count": 16,
   "metadata": {},
   "outputs": [
    {
     "output_type": "execute_result",
     "data": {
      "text/plain": "                        _id                          title  \\\n0  5d62abaa65218653a132c956                    hello there   \n1  5d6d39567fa40e1417a4931c                      Ml and AI   \n2  5d7d23315720533e15c3b1ee  What is an Operating System ?   \n3  5d7d405e5720533e15c3b1f3                     Lord Shiva   \n4  5d80dfbc6c53455f896e600e   How Competition law evolved?   \n\n                                            category post_type  \n0                                Plant Biotechnology      blog  \n1  Artificial Intelligence|Machine Learning|Infor...      blog  \n2                                  Operating Systems      blog  \n3                                           Drawings   artwork  \n4                                   Competition Laws      blog  ",
      "text/html": "<div>\n<style scoped>\n    .dataframe tbody tr th:only-of-type {\n        vertical-align: middle;\n    }\n\n    .dataframe tbody tr th {\n        vertical-align: top;\n    }\n\n    .dataframe thead th {\n        text-align: right;\n    }\n</style>\n<table border=\"1\" class=\"dataframe\">\n  <thead>\n    <tr style=\"text-align: right;\">\n      <th></th>\n      <th>_id</th>\n      <th>title</th>\n      <th>category</th>\n      <th>post_type</th>\n    </tr>\n  </thead>\n  <tbody>\n    <tr>\n      <th>0</th>\n      <td>5d62abaa65218653a132c956</td>\n      <td>hello there</td>\n      <td>Plant Biotechnology</td>\n      <td>blog</td>\n    </tr>\n    <tr>\n      <th>1</th>\n      <td>5d6d39567fa40e1417a4931c</td>\n      <td>Ml and AI</td>\n      <td>Artificial Intelligence|Machine Learning|Infor...</td>\n      <td>blog</td>\n    </tr>\n    <tr>\n      <th>2</th>\n      <td>5d7d23315720533e15c3b1ee</td>\n      <td>What is an Operating System ?</td>\n      <td>Operating Systems</td>\n      <td>blog</td>\n    </tr>\n    <tr>\n      <th>3</th>\n      <td>5d7d405e5720533e15c3b1f3</td>\n      <td>Lord Shiva</td>\n      <td>Drawings</td>\n      <td>artwork</td>\n    </tr>\n    <tr>\n      <th>4</th>\n      <td>5d80dfbc6c53455f896e600e</td>\n      <td>How Competition law evolved?</td>\n      <td>Competition Laws</td>\n      <td>blog</td>\n    </tr>\n  </tbody>\n</table>\n</div>"
     },
     "metadata": {},
     "execution_count": 16
    }
   ],
   "source": [
    "posts_data.head()"
   ]
  },
  {
   "cell_type": "code",
   "execution_count": 17,
   "metadata": {},
   "outputs": [
    {
     "output_type": "execute_result",
     "data": {
      "text/plain": "                      user_id                   post_id\n118  5d610ae1653a331687083239  5ed13d2876027d35905cc4c2\n138  5d610ae1653a331687083239  5ed0e31a76027d35905cc302\n176  5d610ae1653a331687083239  5d80dfbc6c53455f896e600e\n207  5d610ae1653a331687083239  5ecce8a5eaff6b0c3a58a5e9\n208  5d610ae1653a331687083239  5ecd6ba47023451e66223604",
      "text/html": "<div>\n<style scoped>\n    .dataframe tbody tr th:only-of-type {\n        vertical-align: middle;\n    }\n\n    .dataframe tbody tr th {\n        vertical-align: top;\n    }\n\n    .dataframe thead th {\n        text-align: right;\n    }\n</style>\n<table border=\"1\" class=\"dataframe\">\n  <thead>\n    <tr style=\"text-align: right;\">\n      <th></th>\n      <th>user_id</th>\n      <th>post_id</th>\n    </tr>\n  </thead>\n  <tbody>\n    <tr>\n      <th>118</th>\n      <td>5d610ae1653a331687083239</td>\n      <td>5ed13d2876027d35905cc4c2</td>\n    </tr>\n    <tr>\n      <th>138</th>\n      <td>5d610ae1653a331687083239</td>\n      <td>5ed0e31a76027d35905cc302</td>\n    </tr>\n    <tr>\n      <th>176</th>\n      <td>5d610ae1653a331687083239</td>\n      <td>5d80dfbc6c53455f896e600e</td>\n    </tr>\n    <tr>\n      <th>207</th>\n      <td>5d610ae1653a331687083239</td>\n      <td>5ecce8a5eaff6b0c3a58a5e9</td>\n    </tr>\n    <tr>\n      <th>208</th>\n      <td>5d610ae1653a331687083239</td>\n      <td>5ecd6ba47023451e66223604</td>\n    </tr>\n  </tbody>\n</table>\n</div>"
     },
     "metadata": {},
     "execution_count": 17
    }
   ],
   "source": [
    "# We wont use the time_stamp, so we can drop it to save storage\n",
    "views_data = views_data.drop(\"timestamp\", 1)\n",
    "\n",
    "# getting the user input data from the user 5d610ae1653a331687083239\n",
    "input_data = views_data[views_data['user_id'] == '5d610ae1653a331687083239']\n",
    "input_data.head()"
   ]
  },
  {
   "cell_type": "code",
   "execution_count": 18,
   "metadata": {},
   "outputs": [
    {
     "output_type": "execute_result",
     "data": {
      "text/plain": "                     user_id                   post_id\n2   5ed0defa76027d35905cc2de  5eac305f10426255a7aa9dd3\n9   5ecb979eeaff6b0c3a58a4f0  5ed13d2876027d35905cc4c2\n23  5ed3748576027d35905ccaab  5eb7b10ffd92f539c465ddda\n26  5ed35aa376027d35905cca67  5ed13d2876027d35905cc4c2\n34  5ed350ed76027d35905cca2c  5eb4fab110426255a7aaa0ed",
      "text/html": "<div>\n<style scoped>\n    .dataframe tbody tr th:only-of-type {\n        vertical-align: middle;\n    }\n\n    .dataframe tbody tr th {\n        vertical-align: top;\n    }\n\n    .dataframe thead th {\n        text-align: right;\n    }\n</style>\n<table border=\"1\" class=\"dataframe\">\n  <thead>\n    <tr style=\"text-align: right;\">\n      <th></th>\n      <th>user_id</th>\n      <th>post_id</th>\n    </tr>\n  </thead>\n  <tbody>\n    <tr>\n      <th>2</th>\n      <td>5ed0defa76027d35905cc2de</td>\n      <td>5eac305f10426255a7aa9dd3</td>\n    </tr>\n    <tr>\n      <th>9</th>\n      <td>5ecb979eeaff6b0c3a58a4f0</td>\n      <td>5ed13d2876027d35905cc4c2</td>\n    </tr>\n    <tr>\n      <th>23</th>\n      <td>5ed3748576027d35905ccaab</td>\n      <td>5eb7b10ffd92f539c465ddda</td>\n    </tr>\n    <tr>\n      <th>26</th>\n      <td>5ed35aa376027d35905cca67</td>\n      <td>5ed13d2876027d35905cc4c2</td>\n    </tr>\n    <tr>\n      <th>34</th>\n      <td>5ed350ed76027d35905cca2c</td>\n      <td>5eb4fab110426255a7aaa0ed</td>\n    </tr>\n  </tbody>\n</table>\n</div>"
     },
     "metadata": {},
     "execution_count": 18
    }
   ],
   "source": [
    "# Getting the users who have also viewed the posts viewed by the input user\n",
    "user_related = views_data[views_data['post_id'].isin(input_data['post_id'].tolist())]\n",
    "user_related.head()"
   ]
  },
  {
   "cell_type": "code",
   "execution_count": 19,
   "metadata": {},
   "outputs": [
    {
     "output_type": "stream",
     "name": "stdout",
     "text": "[('5d60098a653a331687083238',                        user_id                   post_id\n115   5d60098a653a331687083238  5ed13d2876027d35905cc4c2\n195   5d60098a653a331687083238  5ecd5d417023451e662235c5\n196   5d60098a653a331687083238  5ecce8a5eaff6b0c3a58a5e9\n289   5d60098a653a331687083238  5eca8fceeaff6b0c3a58a3c0\n423   5d60098a653a331687083238  5ec5546bf2781131cc7e5140\n...                        ...                       ...\n1407  5d60098a653a331687083238  5e7de250a3258347b42f210a\n1408  5d60098a653a331687083238  5e7f4fb3a3258347b42f2156\n1421  5d60098a653a331687083238  5e7c7a44cfc8b713f5ac7dac\n1422  5d60098a653a331687083238  5e7de48ca3258347b42f2110\n1444  5d60098a653a331687083238  5e7a60edcfc8b713f5ac7d82\n\n[74 rows x 2 columns]), ('5e1ef04c2a37d20505da2b8b',                       user_id                   post_id\n307  5e1ef04c2a37d20505da2b8b  5ec8204cec493f4a26558893\n375  5e1ef04c2a37d20505da2b8b  5eaed2f210426255a7aa9eef\n377  5e1ef04c2a37d20505da2b8b  5ec5546bf2781131cc7e5140\n378  5e1ef04c2a37d20505da2b8b  5ec57acaf2781131cc7e51d5\n637  5e1ef04c2a37d20505da2b8b  5ebc3239514aab59896bcc86\n647  5e1ef04c2a37d20505da2b8b  5e9db770a3258347b42f2dcf\n652  5e1ef04c2a37d20505da2b8b  5e9f4421a3258347b42f2e54\n653  5e1ef04c2a37d20505da2b8b  5eb1569910426255a7aaa007\n654  5e1ef04c2a37d20505da2b8b  5eb159a610426255a7aaa015\n655  5e1ef04c2a37d20505da2b8b  5eb15a9810426255a7aaa019\n659  5e1ef04c2a37d20505da2b8b  5eb1551e10426255a7aaa003\n660  5e1ef04c2a37d20505da2b8b  5eb158d410426255a7aaa011\n663  5e1ef04c2a37d20505da2b8b  5eb15a9810426255a7aaa019\n711  5e1ef04c2a37d20505da2b8b  5e2d4737c85ab714a7da66d9\n746  5e1ef04c2a37d20505da2b8b  5e2d447dc85ab714a7da66d7\n747  5e1ef04c2a37d20505da2b8b  5e2d36ebc85ab714a7da66d1\n771  5e1ef04c2a37d20505da2b8b  5eb158d410426255a7aaa011\n772  5e1ef04c2a37d20505da2b8b  5eb159a610426255a7aaa015\n773  5e1ef04c2a37d20505da2b8b  5eb15a9810426255a7aaa019\n774  5e1ef04c2a37d20505da2b8b  5eb153ca10426255a7aa9fff\n775  5e1ef04c2a37d20505da2b8b  5eb1551e10426255a7aaa003\n776  5e1ef04c2a37d20505da2b8b  5eb1569910426255a7aaa007\n777  5e1ef04c2a37d20505da2b8b  5eb1490610426255a7aa9ff4\n778  5e1ef04c2a37d20505da2b8b  5eb1485410426255a7aa9fef\n779  5e1ef04c2a37d20505da2b8b  5eb1478a10426255a7aa9feb\n783  5e1ef04c2a37d20505da2b8b  5ea1d7ac10426255a7aa9a66\n784  5e1ef04c2a37d20505da2b8b  5eac350110426255a7aa9e92\n785  5e1ef04c2a37d20505da2b8b  5eb1407c10426255a7aa9fdb\n787  5e1ef04c2a37d20505da2b8b  5eb13e2a10426255a7aa9fcf\n788  5e1ef04c2a37d20505da2b8b  5eb1373110426255a7aa9fc1\n789  5e1ef04c2a37d20505da2b8b  5eb13a3610426255a7aa9fc5\n790  5e1ef04c2a37d20505da2b8b  5eb1358910426255a7aa9fba\n792  5e1ef04c2a37d20505da2b8b  5e2d4737c85ab714a7da66d9\n793  5e1ef04c2a37d20505da2b8b  5e2d447dc85ab714a7da66d7\n794  5e1ef04c2a37d20505da2b8b  5e2d3fbfc85ab714a7da66d5\n795  5e1ef04c2a37d20505da2b8b  5e2d36ebc85ab714a7da66d1\n796  5e1ef04c2a37d20505da2b8b  5e2d516fc85ab714a7da66dd)]\n"
    }
   ],
   "source": [
    "# grouping all the view data by user_id\n",
    "user_grouped = user_related.groupby(['user_id'])\n",
    "user_grouped = sorted(user_grouped, key= lambda x: len(x[1]), reverse= True)\n",
    "user_grouped = user_grouped[1:]\n",
    "\n",
    "# The top 2 users who are most similar to the given user are:\n",
    "print(user_grouped[:2])"
   ]
  },
  {
   "cell_type": "markdown",
   "metadata": {},
   "source": [
    "> Similarity is measured by counting the total similar views between the given user and other users divided by the total posts viewed by input user"
   ]
  },
  {
   "cell_type": "code",
   "execution_count": 20,
   "metadata": {
    "tags": [
     "outputPrepend",
     "outputPrepend"
    ]
   },
   "outputs": [],
   "source": [
    "user_grouped = user_grouped[:100]\n",
    "similarity = {}\n",
    "for id, group in user_grouped:\n",
    "    similarity[id] = len(group)/len(input_data)"
   ]
  },
  {
   "cell_type": "code",
   "execution_count": 21,
   "metadata": {},
   "outputs": [
    {
     "output_type": "execute_result",
     "data": {
      "text/plain": "   similarityIndex                   user_id\n0         0.540146  5d60098a653a331687083238\n1         0.270073  5e1ef04c2a37d20505da2b8b\n2         0.255474  5d7c994d5720533e15c3b1e9\n3         0.218978  5deeef6142a8854bf6eabab9\n4         0.175182  5e5af599d701ab08af792b63\n5         0.131387  5defd51362624b0135ea9fd2\n6         0.131387  5ec3ba5374f7660d73aa1201\n7         0.116788  5df3f8f2ee4bb5252b4f5393\n8         0.116788  5e7cf05bcfc8b713f5ac7db7\n9         0.094891  5df20f1fee4bb5252b4f5351",
      "text/html": "<div>\n<style scoped>\n    .dataframe tbody tr th:only-of-type {\n        vertical-align: middle;\n    }\n\n    .dataframe tbody tr th {\n        vertical-align: top;\n    }\n\n    .dataframe thead th {\n        text-align: right;\n    }\n</style>\n<table border=\"1\" class=\"dataframe\">\n  <thead>\n    <tr style=\"text-align: right;\">\n      <th></th>\n      <th>similarityIndex</th>\n      <th>user_id</th>\n    </tr>\n  </thead>\n  <tbody>\n    <tr>\n      <th>0</th>\n      <td>0.540146</td>\n      <td>5d60098a653a331687083238</td>\n    </tr>\n    <tr>\n      <th>1</th>\n      <td>0.270073</td>\n      <td>5e1ef04c2a37d20505da2b8b</td>\n    </tr>\n    <tr>\n      <th>2</th>\n      <td>0.255474</td>\n      <td>5d7c994d5720533e15c3b1e9</td>\n    </tr>\n    <tr>\n      <th>3</th>\n      <td>0.218978</td>\n      <td>5deeef6142a8854bf6eabab9</td>\n    </tr>\n    <tr>\n      <th>4</th>\n      <td>0.175182</td>\n      <td>5e5af599d701ab08af792b63</td>\n    </tr>\n    <tr>\n      <th>5</th>\n      <td>0.131387</td>\n      <td>5defd51362624b0135ea9fd2</td>\n    </tr>\n    <tr>\n      <th>6</th>\n      <td>0.131387</td>\n      <td>5ec3ba5374f7660d73aa1201</td>\n    </tr>\n    <tr>\n      <th>7</th>\n      <td>0.116788</td>\n      <td>5df3f8f2ee4bb5252b4f5393</td>\n    </tr>\n    <tr>\n      <th>8</th>\n      <td>0.116788</td>\n      <td>5e7cf05bcfc8b713f5ac7db7</td>\n    </tr>\n    <tr>\n      <th>9</th>\n      <td>0.094891</td>\n      <td>5df20f1fee4bb5252b4f5351</td>\n    </tr>\n  </tbody>\n</table>\n</div>"
     },
     "metadata": {},
     "execution_count": 21
    }
   ],
   "source": [
    "# Converting similarity to pandas dataframe\n",
    "similar_df = pd.DataFrame.from_dict(similarity, orient='index')\n",
    "similar_df.columns = ['similarityIndex']\n",
    "similar_df['user_id'] = similar_df.index\n",
    "similar_df.index = range(len(similar_df))\n",
    "similar_df.head(10)"
   ]
  },
  {
   "cell_type": "code",
   "execution_count": 22,
   "metadata": {},
   "outputs": [
    {
     "output_type": "execute_result",
     "data": {
      "text/plain": "   similarityIndex                   user_id\n0         0.540146  5d60098a653a331687083238\n1         0.270073  5e1ef04c2a37d20505da2b8b\n2         0.255474  5d7c994d5720533e15c3b1e9\n3         0.218978  5deeef6142a8854bf6eabab9\n4         0.175182  5e5af599d701ab08af792b63",
      "text/html": "<div>\n<style scoped>\n    .dataframe tbody tr th:only-of-type {\n        vertical-align: middle;\n    }\n\n    .dataframe tbody tr th {\n        vertical-align: top;\n    }\n\n    .dataframe thead th {\n        text-align: right;\n    }\n</style>\n<table border=\"1\" class=\"dataframe\">\n  <thead>\n    <tr style=\"text-align: right;\">\n      <th></th>\n      <th>similarityIndex</th>\n      <th>user_id</th>\n    </tr>\n  </thead>\n  <tbody>\n    <tr>\n      <th>0</th>\n      <td>0.540146</td>\n      <td>5d60098a653a331687083238</td>\n    </tr>\n    <tr>\n      <th>1</th>\n      <td>0.270073</td>\n      <td>5e1ef04c2a37d20505da2b8b</td>\n    </tr>\n    <tr>\n      <th>2</th>\n      <td>0.255474</td>\n      <td>5d7c994d5720533e15c3b1e9</td>\n    </tr>\n    <tr>\n      <th>3</th>\n      <td>0.218978</td>\n      <td>5deeef6142a8854bf6eabab9</td>\n    </tr>\n    <tr>\n      <th>4</th>\n      <td>0.175182</td>\n      <td>5e5af599d701ab08af792b63</td>\n    </tr>\n  </tbody>\n</table>\n</div>"
     },
     "metadata": {},
     "execution_count": 22
    }
   ],
   "source": [
    "# Let's take top 30 users for this model\n",
    "topusers = similar_df.sort_values(by='similarityIndex', ascending=False)[:30]\n",
    "topusers.head()"
   ]
  },
  {
   "cell_type": "code",
   "execution_count": 23,
   "metadata": {},
   "outputs": [
    {
     "output_type": "execute_result",
     "data": {
      "text/plain": "   similarityIndex                   user_id                   post_id\n0         0.540146  5d60098a653a331687083238  5ed3820f76027d35905ccac8\n1         0.540146  5d60098a653a331687083238  5ed1ff0276027d35905cc60d\n2         0.540146  5d60098a653a331687083238  5ecf96e876027d35905cbf46\n3         0.540146  5d60098a653a331687083238  5ecfa0ca76027d35905cbf57\n4         0.540146  5d60098a653a331687083238  5ed0e20776027d35905cc2fe",
      "text/html": "<div>\n<style scoped>\n    .dataframe tbody tr th:only-of-type {\n        vertical-align: middle;\n    }\n\n    .dataframe tbody tr th {\n        vertical-align: top;\n    }\n\n    .dataframe thead th {\n        text-align: right;\n    }\n</style>\n<table border=\"1\" class=\"dataframe\">\n  <thead>\n    <tr style=\"text-align: right;\">\n      <th></th>\n      <th>similarityIndex</th>\n      <th>user_id</th>\n      <th>post_id</th>\n    </tr>\n  </thead>\n  <tbody>\n    <tr>\n      <th>0</th>\n      <td>0.540146</td>\n      <td>5d60098a653a331687083238</td>\n      <td>5ed3820f76027d35905ccac8</td>\n    </tr>\n    <tr>\n      <th>1</th>\n      <td>0.540146</td>\n      <td>5d60098a653a331687083238</td>\n      <td>5ed1ff0276027d35905cc60d</td>\n    </tr>\n    <tr>\n      <th>2</th>\n      <td>0.540146</td>\n      <td>5d60098a653a331687083238</td>\n      <td>5ecf96e876027d35905cbf46</td>\n    </tr>\n    <tr>\n      <th>3</th>\n      <td>0.540146</td>\n      <td>5d60098a653a331687083238</td>\n      <td>5ecfa0ca76027d35905cbf57</td>\n    </tr>\n    <tr>\n      <th>4</th>\n      <td>0.540146</td>\n      <td>5d60098a653a331687083238</td>\n      <td>5ed0e20776027d35905cc2fe</td>\n    </tr>\n  </tbody>\n</table>\n</div>"
     },
     "metadata": {},
     "execution_count": 23
    }
   ],
   "source": [
    "# Adding posts viewed by \n",
    "topuserspost = similar_df.merge(views_data, left_on='user_id', right_on='user_id', how='inner')\n",
    "\n",
    "# Cancelling out all the posts which the user has already seen\n",
    "topuserspost = topuserspost[~topuserspost['post_id'].isin(input_data['post_id'])]\n",
    "topuserspost.head()"
   ]
  },
  {
   "cell_type": "code",
   "execution_count": 24,
   "metadata": {},
   "outputs": [
    {
     "output_type": "execute_result",
     "data": {
      "text/plain": "post_id\n5d62abaa65218653a132c956    0.540146\n5d6d39567fa40e1417a4931c    0.540146\n5d7d23315720533e15c3b1ee    0.109489\n5d7d405e5720533e15c3b1f3    0.401460\n5d80e7c16c53455f896e6014    0.131387\n5d81323a6c53455f896e6044    0.014599\n5d9b950768671220a1b2b153    0.218978\n5dada695610ba040fbfdf585    0.145985\nName: similarityIndex, dtype: float64"
     },
     "metadata": {},
     "execution_count": 24
    }
   ],
   "source": [
    "# Grouping by post to get the cumulative similarity score for which recommendations are done\n",
    "topuserspost = topuserspost.groupby('post_id').sum()['similarityIndex']\n",
    "topuserspost.head(8)"
   ]
  },
  {
   "cell_type": "code",
   "execution_count": 25,
   "metadata": {},
   "outputs": [
    {
     "output_type": "execute_result",
     "data": {
      "text/plain": "      score                   post_id\n0  2.109489  5ec7a8bdec493f4a26558846\n1  2.094891  5ec7a699ec493f4a2655883a\n2  2.014599  5ec7a7a3ec493f4a26558840\n3  1.963504  5ec7ad1aec493f4a26558869\n4  1.919708  5ec2215374f7660d73aa1011",
      "text/html": "<div>\n<style scoped>\n    .dataframe tbody tr th:only-of-type {\n        vertical-align: middle;\n    }\n\n    .dataframe tbody tr th {\n        vertical-align: top;\n    }\n\n    .dataframe thead th {\n        text-align: right;\n    }\n</style>\n<table border=\"1\" class=\"dataframe\">\n  <thead>\n    <tr style=\"text-align: right;\">\n      <th></th>\n      <th>score</th>\n      <th>post_id</th>\n    </tr>\n  </thead>\n  <tbody>\n    <tr>\n      <th>0</th>\n      <td>2.109489</td>\n      <td>5ec7a8bdec493f4a26558846</td>\n    </tr>\n    <tr>\n      <th>1</th>\n      <td>2.094891</td>\n      <td>5ec7a699ec493f4a2655883a</td>\n    </tr>\n    <tr>\n      <th>2</th>\n      <td>2.014599</td>\n      <td>5ec7a7a3ec493f4a26558840</td>\n    </tr>\n    <tr>\n      <th>3</th>\n      <td>1.963504</td>\n      <td>5ec7ad1aec493f4a26558869</td>\n    </tr>\n    <tr>\n      <th>4</th>\n      <td>1.919708</td>\n      <td>5ec2215374f7660d73aa1011</td>\n    </tr>\n  </tbody>\n</table>\n</div>"
     },
     "metadata": {},
     "execution_count": 25
    }
   ],
   "source": [
    "# topuserspost = topuserspost.sort_values(by='similarityIndex', ascending=False)\n",
    "# topuserspost\n",
    "recommendations = pd.DataFrame()\n",
    "recommendations['score'] = topuserspost[:]\n",
    "recommendations['post_id'] = topuserspost.index\n",
    "\n",
    "# Sorting recommendations based on the obtained score\n",
    "recommendations = recommendations.sort_values(by='score', ascending=False)\n",
    "recommendations.index = range(len(topuserspost))\n",
    "recommendations.head()"
   ]
  },
  {
   "cell_type": "code",
   "execution_count": 26,
   "metadata": {},
   "outputs": [
    {
     "output_type": "execute_result",
     "data": {
      "text/plain": "                          _id                                   title  \\\n187  5e81b47fa3258347b42f21d7  7 Steps To Stay Safe From Corona Virus   \n211  5e8448aba3258347b42f2447                  JUSTICE FOR NORTH EAST   \n226  5e8bfa8aa3258347b42f2611           Are We Alone In The Universe?   \n265  5e948fdfa3258347b42f28ca                                monument   \n348  5ea3227010426255a7aa9ac1                              Aesthetic.   \n349  5ea3236810426255a7aa9ac8                                Solitude   \n353  5ea5ce9310426255a7aa9b8d                             Photography   \n414  5ebd5b46514aab59896bcd5a         Quick Sketch of Gangster Skull.   \n416  5ec2215374f7660d73aa1011                             Women power   \n417  5ec278b574f7660d73aa10d5                                   Rides   \n\n                            category post_type  \n187     Mass Media|Indian Government      blog  \n211  Human Rights|Fundamental Rights      blog  \n226      Archeology|Human Prehistory      blog  \n265                      Photography   artwork  \n348                      Photography   artwork  \n349                      Photography   artwork  \n353                              NaN   project  \n414                     Sketch Video     skill  \n416                         Painting   artwork  \n417                         Drawings   artwork  ",
      "text/html": "<div>\n<style scoped>\n    .dataframe tbody tr th:only-of-type {\n        vertical-align: middle;\n    }\n\n    .dataframe tbody tr th {\n        vertical-align: top;\n    }\n\n    .dataframe thead th {\n        text-align: right;\n    }\n</style>\n<table border=\"1\" class=\"dataframe\">\n  <thead>\n    <tr style=\"text-align: right;\">\n      <th></th>\n      <th>_id</th>\n      <th>title</th>\n      <th>category</th>\n      <th>post_type</th>\n    </tr>\n  </thead>\n  <tbody>\n    <tr>\n      <th>187</th>\n      <td>5e81b47fa3258347b42f21d7</td>\n      <td>7 Steps To Stay Safe From Corona Virus</td>\n      <td>Mass Media|Indian Government</td>\n      <td>blog</td>\n    </tr>\n    <tr>\n      <th>211</th>\n      <td>5e8448aba3258347b42f2447</td>\n      <td>JUSTICE FOR NORTH EAST</td>\n      <td>Human Rights|Fundamental Rights</td>\n      <td>blog</td>\n    </tr>\n    <tr>\n      <th>226</th>\n      <td>5e8bfa8aa3258347b42f2611</td>\n      <td>Are We Alone In The Universe?</td>\n      <td>Archeology|Human Prehistory</td>\n      <td>blog</td>\n    </tr>\n    <tr>\n      <th>265</th>\n      <td>5e948fdfa3258347b42f28ca</td>\n      <td>monument</td>\n      <td>Photography</td>\n      <td>artwork</td>\n    </tr>\n    <tr>\n      <th>348</th>\n      <td>5ea3227010426255a7aa9ac1</td>\n      <td>Aesthetic.</td>\n      <td>Photography</td>\n      <td>artwork</td>\n    </tr>\n    <tr>\n      <th>349</th>\n      <td>5ea3236810426255a7aa9ac8</td>\n      <td>Solitude</td>\n      <td>Photography</td>\n      <td>artwork</td>\n    </tr>\n    <tr>\n      <th>353</th>\n      <td>5ea5ce9310426255a7aa9b8d</td>\n      <td>Photography</td>\n      <td>NaN</td>\n      <td>project</td>\n    </tr>\n    <tr>\n      <th>414</th>\n      <td>5ebd5b46514aab59896bcd5a</td>\n      <td>Quick Sketch of Gangster Skull.</td>\n      <td>Sketch Video</td>\n      <td>skill</td>\n    </tr>\n    <tr>\n      <th>416</th>\n      <td>5ec2215374f7660d73aa1011</td>\n      <td>Women power</td>\n      <td>Painting</td>\n      <td>artwork</td>\n    </tr>\n    <tr>\n      <th>417</th>\n      <td>5ec278b574f7660d73aa10d5</td>\n      <td>Rides</td>\n      <td>Drawings</td>\n      <td>artwork</td>\n    </tr>\n  </tbody>\n</table>\n</div>"
     },
     "metadata": {},
     "execution_count": 26
    }
   ],
   "source": [
    "# Final recommendations by collaborative filtering\n",
    "final_posts = posts_data[posts_data['_id'].isin(recommendations['post_id'][:20])]\n",
    "final_posts.head(10)"
   ]
  },
  {
   "cell_type": "markdown",
   "metadata": {},
   "source": [
    "---\n",
    "\n",
    "# Inference\n",
    "\n",
    "The post predictions from collaborative filtering and from content-based filtering are very different. <br>\n",
    "This shows that\n",
    "* Content-based filtering takes all the preferences from the current user and will not show other posts. It may give better recommendations for user, but will not explore other categories.\n",
    "\n",
    "* Collaborative filtering exploits other users' preferences to filter the best posts. This may show those which user have not explored yet.\n",
    "\n",
    "* A limitation for both the algorithms is if there isn't enough data for each user.\n",
    "\n",
    "### Follow-up\n",
    "This project can be extended by giving the user review along with the views to give better recommendation results"
   ]
  }
 ],
 "metadata": {
  "language_info": {
   "codemirror_mode": {
    "name": "ipython",
    "version": 3
   },
   "file_extension": ".py",
   "mimetype": "text/x-python",
   "name": "python",
   "nbconvert_exporter": "python",
   "pygments_lexer": "ipython3",
   "version": "3.7.4-final"
  },
  "orig_nbformat": 2,
  "kernelspec": {
   "name": "python37432bit88e4f50b0fe04c8b807424ced0a319f9",
   "display_name": "Python 3.7.4 32-bit"
  }
 },
 "nbformat": 4,
 "nbformat_minor": 2
}